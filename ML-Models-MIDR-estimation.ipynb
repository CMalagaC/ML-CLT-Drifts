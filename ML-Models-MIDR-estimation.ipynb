{
 "cells": [
  {
   "cell_type": "markdown",
   "id": "c3368039",
   "metadata": {},
   "source": [
    "# ML models for the estimation of maximum-interstorey drift ratio (MIDR)"
   ]
  },
  {
   "cell_type": "code",
   "execution_count": 1,
   "id": "e2e4d2c7",
   "metadata": {},
   "outputs": [],
   "source": [
    "# Import Important libraries\n",
    "import numpy as np \n",
    "from sklearn import preprocessing\n",
    "from sklearn.preprocessing import StandardScaler\n",
    "import math\n",
    "import pickle"
   ]
  },
  {
   "cell_type": "code",
   "execution_count": 2,
   "id": "6e97e22b",
   "metadata": {},
   "outputs": [],
   "source": [
    "# Load scaler\n",
    "Scaler=pickle.load(open('Scaler.sav','rb'))\n",
    "\n",
    "# Load trained ML models for predicting MIDR\n",
    "LR_MIDR  = pickle.load(open('MIDR_Linear-regression.sav','rb'))    # Linear regression\n",
    "RT_MIDR  = pickle.load(open('MIDR_Regression-tree.sav','rb'))      # Regression tree\n",
    "RF_MIDR  = pickle.load(open('MIDR_Random-forest.sav','rb'))        # Random forest\n",
    "KNN_MIDR = pickle.load(open('MIDR_K-nearest-neighbors.sav','rb'))  # K-nearest neighbors\n",
    "SVR_MIDR = pickle.load(open('MIDR_Support-vector-regression.sav','rb')) # Support vector regression"
   ]
  },
  {
   "cell_type": "code",
   "execution_count": 3,
   "id": "11c684dc",
   "metadata": {},
   "outputs": [],
   "source": [
    "# Predict MIDR using the developed ML models\n",
    "\n",
    "# Input parameters\n",
    "\n",
    "# scale\n",
    "PGV = 7.183          # Peak ground acceleration in cm/s\n",
    "Sa = 0.215           # Response spectrum at the fundamental period in g\n",
    "T1_Tm = 1.015        # Tuning ratio \n",
    "Wr = 1               # Wall ratio\n",
    "q = 2                # Behaviour factor\n",
    "H = 21.8             # Strucrual Height in m"
   ]
  },
  {
   "cell_type": "code",
   "execution_count": 4,
   "id": "f2426731",
   "metadata": {},
   "outputs": [
    {
     "name": "stdout",
     "output_type": "stream",
     "text": [
      "Linear regression\n",
      "MIDR = 0.084 %\n",
      "\n",
      "Regression tree\n",
      "MIDR = 0.079 %\n",
      "\n",
      "Random forest\n",
      "MIDR = 0.089 %\n",
      "\n",
      "K-nearest neighbors\n",
      "MIDR = 0.096 %\n",
      "\n",
      "Support vector regression\n",
      "MIDR = 0.073 %\n",
      "\n"
     ]
    },
    {
     "name": "stderr",
     "output_type": "stream",
     "text": [
      "C:\\Users\\Asus\\Anaconda3\\lib\\site-packages\\sklearn\\base.py:451: UserWarning: X does not have valid feature names, but LinearRegression was fitted with feature names\n",
      "  \"X does not have valid feature names, but\"\n",
      "C:\\Users\\Asus\\Anaconda3\\lib\\site-packages\\sklearn\\base.py:451: UserWarning: X does not have valid feature names, but DecisionTreeRegressor was fitted with feature names\n",
      "  \"X does not have valid feature names, but\"\n",
      "C:\\Users\\Asus\\Anaconda3\\lib\\site-packages\\sklearn\\base.py:451: UserWarning: X does not have valid feature names, but RandomForestRegressor was fitted with feature names\n",
      "  \"X does not have valid feature names, but\"\n",
      "C:\\Users\\Asus\\Anaconda3\\lib\\site-packages\\sklearn\\base.py:451: UserWarning: X does not have valid feature names, but KNeighborsRegressor was fitted with feature names\n",
      "  \"X does not have valid feature names, but\"\n",
      "C:\\Users\\Asus\\Anaconda3\\lib\\site-packages\\sklearn\\base.py:451: UserWarning: X does not have valid feature names, but SVR was fitted with feature names\n",
      "  \"X does not have valid feature names, but\"\n"
     ]
    }
   ],
   "source": [
    "# The list of input features\n",
    "X_input = np.array([[np.log(PGV), np.log(Sa), np.log(T1_Tm), Wr, q, H]])\n",
    "\n",
    "X_input_scaled = Scaler.transform(X_input)\n",
    "\n",
    "MIDR_LR = LR_MIDR.predict(X_input_scaled)\n",
    "MIDR_RT = RT_MIDR.predict(X_input_scaled)\n",
    "MIDR_RF = RF_MIDR.predict(X_input_scaled)\n",
    "MIDR_KNN = KNN_MIDR.predict(X_input_scaled)\n",
    "MIDR_SVR = SVR_MIDR.predict(X_input_scaled)\n",
    "\n",
    "print('Linear regression')\n",
    "print('MIDR = %.3f'% math.exp(MIDR_LR[0])+' %')\n",
    "print()\n",
    "\n",
    "print('Regression tree')\n",
    "print('MIDR = %.3f'% math.exp(MIDR_RT[0])+' %')\n",
    "print()\n",
    "\n",
    "print('Random forest')\n",
    "print('MIDR = %.3f'% math.exp(MIDR_RF[0])+' %')\n",
    "print()\n",
    "\n",
    "print('K-nearest neighbors')\n",
    "print('MIDR = %.3f'% math.exp(MIDR_KNN[0])+' %')\n",
    "print()\n",
    "\n",
    "print('Support vector regression')\n",
    "print('MIDR = %.3f'% math.exp(MIDR_SVR[0])+' %')\n",
    "print()"
   ]
  },
  {
   "cell_type": "code",
   "execution_count": null,
   "id": "45c12087",
   "metadata": {},
   "outputs": [],
   "source": []
  },
  {
   "cell_type": "code",
   "execution_count": null,
   "id": "8f035d72",
   "metadata": {},
   "outputs": [],
   "source": []
  },
  {
   "cell_type": "code",
   "execution_count": null,
   "id": "32455517",
   "metadata": {},
   "outputs": [],
   "source": []
  }
 ],
 "metadata": {
  "kernelspec": {
   "display_name": "Python 3 (ipykernel)",
   "language": "python",
   "name": "python3"
  },
  "language_info": {
   "codemirror_mode": {
    "name": "ipython",
    "version": 3
   },
   "file_extension": ".py",
   "mimetype": "text/x-python",
   "name": "python",
   "nbconvert_exporter": "python",
   "pygments_lexer": "ipython3",
   "version": "3.7.13"
  }
 },
 "nbformat": 4,
 "nbformat_minor": 5
}
