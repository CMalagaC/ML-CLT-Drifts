{
 "cells": [
  {
   "cell_type": "markdown",
   "id": "a0d3cb6b",
   "metadata": {},
   "source": [
    "# ML models for the estimation of global roof drift ratio (RDR)"
   ]
  },
  {
   "cell_type": "code",
   "execution_count": 1,
   "id": "e2e4d2c7",
   "metadata": {},
   "outputs": [],
   "source": [
    "# Import Important libraries\n",
    "import numpy as np \n",
    "from sklearn import preprocessing\n",
    "from sklearn.preprocessing import StandardScaler\n",
    "import math\n",
    "import pickle"
   ]
  },
  {
   "cell_type": "code",
   "execution_count": 2,
   "id": "6e97e22b",
   "metadata": {},
   "outputs": [],
   "source": [
    "# Load scaler\n",
    "Scaler=pickle.load(open('Scaler.sav','rb'))\n",
    "\n",
    "# Load trained ML models for predicting MIDR\n",
    "LR_RDR  = pickle.load(open('RDR_Linear-regression.sav','rb'))    # Linear regression\n",
    "RT_RDR  = pickle.load(open('RDR_Regression-tree.sav','rb'))      # Regression tree\n",
    "RF_RDR  = pickle.load(open('RDR_Random-forest.sav','rb'))        # Random forest\n",
    "KNN_RDR = pickle.load(open('RDR_K-nearest-neighbors.sav','rb'))  # K-nearest neighbors\n",
    "SVR_RDR = pickle.load(open('RDR_Support-vector-regression.sav','rb')) # Support vector regression"
   ]
  },
  {
   "cell_type": "code",
   "execution_count": 3,
   "id": "11c684dc",
   "metadata": {},
   "outputs": [],
   "source": [
    "# Predict MIDR using the developed ML models\n",
    "\n",
    "# Input parameters\n",
    "\n",
    "# scale\n",
    "PGV = 7.183          # Peak ground acceleration in cm/s\n",
    "Sa = 0.215           # Response spectrum at the fundamental period in g\n",
    "T1_Tm = 1.015        # Tuning ratio \n",
    "Wr = 1               # Wall ratio\n",
    "q = 2                # Behaviour factor\n",
    "H = 21.8             # Strucrual Height in m"
   ]
  },
  {
   "cell_type": "code",
   "execution_count": 4,
   "id": "f2426731",
   "metadata": {},
   "outputs": [
    {
     "name": "stdout",
     "output_type": "stream",
     "text": [
      "Linear regression\n",
      "RDR = 0.078 %\n",
      "\n",
      "Regression tree\n",
      "RDR = 0.076 %\n",
      "\n",
      "Random forest\n",
      "RDR = 0.088 %\n",
      "\n",
      "K-nearest neighbors\n",
      "RDR = 0.082 %\n",
      "\n",
      "Support vector regression\n",
      "RDR = 0.071 %\n",
      "\n"
     ]
    },
    {
     "name": "stderr",
     "output_type": "stream",
     "text": [
      "C:\\Users\\Asus\\Anaconda3\\lib\\site-packages\\sklearn\\base.py:451: UserWarning: X does not have valid feature names, but LinearRegression was fitted with feature names\n",
      "  \"X does not have valid feature names, but\"\n",
      "C:\\Users\\Asus\\Anaconda3\\lib\\site-packages\\sklearn\\base.py:451: UserWarning: X does not have valid feature names, but DecisionTreeRegressor was fitted with feature names\n",
      "  \"X does not have valid feature names, but\"\n",
      "C:\\Users\\Asus\\Anaconda3\\lib\\site-packages\\sklearn\\base.py:451: UserWarning: X does not have valid feature names, but RandomForestRegressor was fitted with feature names\n",
      "  \"X does not have valid feature names, but\"\n",
      "C:\\Users\\Asus\\Anaconda3\\lib\\site-packages\\sklearn\\base.py:451: UserWarning: X does not have valid feature names, but KNeighborsRegressor was fitted with feature names\n",
      "  \"X does not have valid feature names, but\"\n",
      "C:\\Users\\Asus\\Anaconda3\\lib\\site-packages\\sklearn\\base.py:451: UserWarning: X does not have valid feature names, but SVR was fitted with feature names\n",
      "  \"X does not have valid feature names, but\"\n"
     ]
    }
   ],
   "source": [
    "# The list of input features\n",
    "X_input = np.array([[np.log(PGV), np.log(Sa), np.log(T1_Tm), Wr, q, H]])\n",
    "\n",
    "X_input_scaled = Scaler.transform(X_input)\n",
    "\n",
    "RDR_LR = LR_RDR.predict(X_input_scaled)\n",
    "RDR_RT = RT_RDR.predict(X_input_scaled)\n",
    "RDR_RF = RF_RDR.predict(X_input_scaled)\n",
    "RDR_KNN = KNN_RDR.predict(X_input_scaled)\n",
    "RDR_SVR = SVR_RDR.predict(X_input_scaled)\n",
    "\n",
    "print('Linear regression')\n",
    "print('RDR = %.3f'% math.exp(RDR_LR[0])+' %')\n",
    "print()\n",
    "\n",
    "print('Regression tree')\n",
    "print('RDR = %.3f'% math.exp(RDR_RT[0])+' %')\n",
    "print()\n",
    "\n",
    "print('Random forest')\n",
    "print('RDR = %.3f'% math.exp(RDR_RF[0])+' %')\n",
    "print()\n",
    "\n",
    "print('K-nearest neighbors')\n",
    "print('RDR = %.3f'% math.exp(RDR_KNN[0])+' %')\n",
    "print()\n",
    "\n",
    "print('Support vector regression')\n",
    "print('RDR = %.3f'% math.exp(RDR_SVR[0])+' %')\n",
    "print()"
   ]
  },
  {
   "cell_type": "code",
   "execution_count": null,
   "id": "45c12087",
   "metadata": {},
   "outputs": [],
   "source": []
  },
  {
   "cell_type": "code",
   "execution_count": null,
   "id": "8f035d72",
   "metadata": {},
   "outputs": [],
   "source": []
  },
  {
   "cell_type": "code",
   "execution_count": null,
   "id": "32455517",
   "metadata": {},
   "outputs": [],
   "source": []
  }
 ],
 "metadata": {
  "kernelspec": {
   "display_name": "Python 3 (ipykernel)",
   "language": "python",
   "name": "python3"
  },
  "language_info": {
   "codemirror_mode": {
    "name": "ipython",
    "version": 3
   },
   "file_extension": ".py",
   "mimetype": "text/x-python",
   "name": "python",
   "nbconvert_exporter": "python",
   "pygments_lexer": "ipython3",
   "version": "3.7.13"
  }
 },
 "nbformat": 4,
 "nbformat_minor": 5
}
